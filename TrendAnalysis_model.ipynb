{
  "nbformat": 4,
  "nbformat_minor": 0,
  "metadata": {
    "colab": {
      "name": "youtube.ipynb",
      "provenance": [],
      "collapsed_sections": [],
      "authorship_tag": "ABX9TyOxYxYs/onCJySdDUZDJc2A",
      "include_colab_link": true
    },
    "kernelspec": {
      "name": "python3",
      "display_name": "Python 3"
    }
  },
  "cells": [
    {
      "cell_type": "markdown",
      "metadata": {
        "id": "view-in-github",
        "colab_type": "text"
      },
      "source": [
        "<a href=\"https://colab.research.google.com/github/risa0122/HanaBank/blob/main/youtube.ipynb\" target=\"_parent\"><img src=\"https://colab.research.google.com/assets/colab-badge.svg\" alt=\"Open In Colab\"/></a>"
      ]
    },
    {
      "cell_type": "code",
      "metadata": {
        "colab": {
          "base_uri": "https://localhost:8080/"
        },
        "id": "-LzVkgzx6pN_",
        "outputId": "124ebdd6-19df-4a30-8f80-7f42b9ee15b8"
      },
      "source": [
        "!git clone https://github.com/risa0122/HanaBank.git"
      ],
      "execution_count": 5,
      "outputs": [
        {
          "output_type": "stream",
          "text": [
            "Cloning into 'HanaBank'...\n",
            "remote: Enumerating objects: 4, done.\u001b[K\n",
            "remote: Counting objects:  25% (1/4)\u001b[K\rremote: Counting objects:  50% (2/4)\u001b[K\rremote: Counting objects:  75% (3/4)\u001b[K\rremote: Counting objects: 100% (4/4)\u001b[K\rremote: Counting objects: 100% (4/4), done.\u001b[K\n",
            "remote: Compressing objects:  33% (1/3)\u001b[K\rremote: Compressing objects:  66% (2/3)\u001b[K\rremote: Compressing objects: 100% (3/3)\u001b[K\rremote: Compressing objects: 100% (3/3), done.\u001b[K\n",
            "remote: Total 4 (delta 0), reused 0 (delta 0), pack-reused 0\n",
            "Unpacking objects: 100% (4/4), done.\n"
          ],
          "name": "stdout"
        }
      ]
    },
    {
      "cell_type": "code",
      "metadata": {
        "id": "VqbzcbTSD_P-",
        "colab": {
          "base_uri": "https://localhost:8080/",
          "height": 377
        },
        "outputId": "4e323b3a-f19d-456e-c255-a0d39f31f0e2"
      },
      "source": [
        "!sudo apt-get install -y fonts-nanum\n",
        "!sudo fc-cache -fv\n",
        "!rm ~/.cache/matplotlib -rf"
      ],
      "execution_count": null,
      "outputs": [
        {
          "output_type": "stream",
          "text": [
            "Reading package lists... Done\n",
            "Building dependency tree       \n",
            "Reading state information... Done\n",
            "fonts-nanum is already the newest version (20170925-1).\n",
            "The following package was automatically installed and is no longer required:\n",
            "  libnvidia-common-440\n",
            "Use 'sudo apt autoremove' to remove it.\n",
            "0 upgraded, 0 newly installed, 0 to remove and 35 not upgraded.\n",
            "/usr/share/fonts: caching, new cache contents: 0 fonts, 1 dirs\n",
            "/usr/share/fonts/truetype: caching, new cache contents: 0 fonts, 3 dirs\n",
            "/usr/share/fonts/truetype/humor-sans: caching, new cache contents: 1 fonts, 0 dirs\n",
            "/usr/share/fonts/truetype/liberation: caching, new cache contents: 16 fonts, 0 dirs\n",
            "/usr/share/fonts/truetype/nanum: caching, new cache contents: 10 fonts, 0 dirs\n",
            "/usr/local/share/fonts: caching, new cache contents: 0 fonts, 0 dirs\n",
            "/root/.local/share/fonts: skipping, no such directory\n",
            "/root/.fonts: skipping, no such directory\n",
            "/var/cache/fontconfig: cleaning cache directory\n",
            "/root/.cache/fontconfig: not cleaning non-existent cache directory\n",
            "/root/.fontconfig: not cleaning non-existent cache directory\n",
            "fc-cache: succeeded\n"
          ],
          "name": "stdout"
        }
      ]
    },
    {
      "cell_type": "code",
      "metadata": {
        "id": "Z117nhQgiKke"
      },
      "source": [
        "# 한글 폰트 문제\n",
        "import matplotlib.pyplot as plt\n",
        "\n",
        "plt.rc('font', family='NanumBarunGothic') \n"
      ],
      "execution_count": null,
      "outputs": []
    },
    {
      "cell_type": "code",
      "metadata": {
        "id": "6yAAWWD0h_fW"
      },
      "source": [
        "import numpy as np\n",
        "import pandas as pd\n",
        "import re\n",
        "import networkx as nx\n",
        "import matplotlib.pyplot as plt\n",
        "from konlpy.tag import Hannanum\n",
        "from apyori import apriori"
      ],
      "execution_count": null,
      "outputs": []
    },
    {
      "cell_type": "code",
      "metadata": {
        "id": "K7Htv5bNKvmY"
      },
      "source": [
        "# 영상 텍스트 불러오기\n",
        "#\"C:\\Users\\user\\Downloads\\test1.txt\"\n",
        "f = open('/content/j1.txt', 'r', encoding='UTF-8')\n",
        "#f = open('/content/test1.txt','r',encoding='UTF-8')\n",
        "lines = f.readlines()\n",
        "f.close()\n"
      ],
      "execution_count": null,
      "outputs": []
    },
    {
      "cell_type": "code",
      "metadata": {
        "id": "YdXnf-lrKvrN"
      },
      "source": [
        "hannanum = Hannanum()"
      ],
      "execution_count": null,
      "outputs": []
    },
    {
      "cell_type": "code",
      "metadata": {
        "id": "UJncutzUKvwF",
        "colab": {
          "base_uri": "https://localhost:8080/",
          "height": 34
        },
        "outputId": "4d4e0330-5eda-4751-d29a-9fa972dfa0da"
      },
      "source": [
        "dataset = []\n",
        "for i in range(len(lines)):\n",
        "  dataset.append(hannanum.nouns(re.sub('[^가-힣a-zA-Z\\s]','',lines[i])))\n",
        "dataset[:10]"
      ],
      "execution_count": null,
      "outputs": [
        {
          "output_type": "execute_result",
          "data": {
            "text/plain": [
              "[['간편해서'], [], [], [], ['피드'], [], ['피드'], [], [], []]"
            ]
          },
          "metadata": {
            "tags": []
          },
          "execution_count": 6
        }
      ]
    },
    {
      "cell_type": "code",
      "metadata": {
        "id": "FHYmwkLEKv38",
        "colab": {
          "base_uri": "https://localhost:8080/",
          "height": 328
        },
        "outputId": "38f35345-cae6-408e-b19b-cd3e8cc07b4b"
      },
      "source": [
        "#에이 프라이어리\n",
        "result = (list(apriori(dataset, min_support=0.011))) #지지도 0.001\n",
        "df = pd.DataFrame(result)\n",
        "df['length'] = df['items'].apply(lambda x: len(x))\n",
        "df = df[(df['length']==2) & (df['support']>=0.011)].sort_values(by='support',ascending=False)\n",
        "df.head(10)"
      ],
      "execution_count": null,
      "outputs": [
        {
          "output_type": "execute_result",
          "data": {
            "text/html": [
              "<div>\n",
              "<style scoped>\n",
              "    .dataframe tbody tr th:only-of-type {\n",
              "        vertical-align: middle;\n",
              "    }\n",
              "\n",
              "    .dataframe tbody tr th {\n",
              "        vertical-align: top;\n",
              "    }\n",
              "\n",
              "    .dataframe thead th {\n",
              "        text-align: right;\n",
              "    }\n",
              "</style>\n",
              "<table border=\"1\" class=\"dataframe\">\n",
              "  <thead>\n",
              "    <tr style=\"text-align: right;\">\n",
              "      <th></th>\n",
              "      <th>items</th>\n",
              "      <th>support</th>\n",
              "      <th>ordered_statistics</th>\n",
              "      <th>length</th>\n",
              "    </tr>\n",
              "  </thead>\n",
              "  <tbody>\n",
              "    <tr>\n",
              "      <th>14</th>\n",
              "      <td>(뒤, 시간)</td>\n",
              "      <td>0.041451</td>\n",
              "      <td>[((), (뒤, 시간), 0.04145077720207254, 1.0), ((뒤)...</td>\n",
              "      <td>2</td>\n",
              "    </tr>\n",
              "    <tr>\n",
              "      <th>22</th>\n",
              "      <td>(후, 시간)</td>\n",
              "      <td>0.041451</td>\n",
              "      <td>[((), (후, 시간), 0.04145077720207254, 1.0), ((시간...</td>\n",
              "      <td>2</td>\n",
              "    </tr>\n",
              "    <tr>\n",
              "      <th>17</th>\n",
              "      <td>(때문, 시간)</td>\n",
              "      <td>0.031088</td>\n",
              "      <td>[((), (때문, 시간), 0.031088082901554404, 1.0), ((...</td>\n",
              "      <td>2</td>\n",
              "    </tr>\n",
              "    <tr>\n",
              "      <th>21</th>\n",
              "      <td>(스토리, 피드)</td>\n",
              "      <td>0.025907</td>\n",
              "      <td>[((), (스토리, 피드), 0.025906735751295335, 1.0), (...</td>\n",
              "      <td>2</td>\n",
              "    </tr>\n",
              "    <tr>\n",
              "      <th>15</th>\n",
              "      <td>(때문, 부담)</td>\n",
              "      <td>0.015544</td>\n",
              "      <td>[((), (때문, 부담), 0.015544041450777202, 1.0), ((...</td>\n",
              "      <td>2</td>\n",
              "    </tr>\n",
              "    <tr>\n",
              "      <th>16</th>\n",
              "      <td>(스토리, 때문)</td>\n",
              "      <td>0.015544</td>\n",
              "      <td>[((), (스토리, 때문), 0.015544041450777202, 1.0), (...</td>\n",
              "      <td>2</td>\n",
              "    </tr>\n",
              "    <tr>\n",
              "      <th>18</th>\n",
              "      <td>(피드, 때문)</td>\n",
              "      <td>0.015544</td>\n",
              "      <td>[((), (피드, 때문), 0.015544041450777202, 1.0), ((...</td>\n",
              "      <td>2</td>\n",
              "    </tr>\n",
              "    <tr>\n",
              "      <th>19</th>\n",
              "      <td>(피드, 부담)</td>\n",
              "      <td>0.015544</td>\n",
              "      <td>[((), (피드, 부담), 0.015544041450777202, 1.0), ((...</td>\n",
              "      <td>2</td>\n",
              "    </tr>\n",
              "    <tr>\n",
              "      <th>20</th>\n",
              "      <td>(스토리, 시간)</td>\n",
              "      <td>0.015544</td>\n",
              "      <td>[((), (스토리, 시간), 0.015544041450777202, 1.0), (...</td>\n",
              "      <td>2</td>\n",
              "    </tr>\n",
              "  </tbody>\n",
              "</table>\n",
              "</div>"
            ],
            "text/plain": [
              "        items  ...  length\n",
              "14    (뒤, 시간)  ...       2\n",
              "22    (후, 시간)  ...       2\n",
              "17   (때문, 시간)  ...       2\n",
              "21  (스토리, 피드)  ...       2\n",
              "15   (때문, 부담)  ...       2\n",
              "16  (스토리, 때문)  ...       2\n",
              "18   (피드, 때문)  ...       2\n",
              "19   (피드, 부담)  ...       2\n",
              "20  (스토리, 시간)  ...       2\n",
              "\n",
              "[9 rows x 4 columns]"
            ]
          },
          "metadata": {
            "tags": []
          },
          "execution_count": 13
        }
      ]
    },
    {
      "cell_type": "code",
      "metadata": {
        "id": "RoNpfzSYXPlf"
      },
      "source": [
        ""
      ],
      "execution_count": null,
      "outputs": []
    },
    {
      "cell_type": "code",
      "metadata": {
        "id": "CFfyIVE9KwCi"
      },
      "source": [
        "# 네트워크 그래프\n",
        "G = nx.Graph()\n",
        "ar = (df['items']); G.add_edges_from(ar)"
      ],
      "execution_count": null,
      "outputs": []
    },
    {
      "cell_type": "code",
      "metadata": {
        "id": "sulsFVcJUDkb"
      },
      "source": [
        "# 페이지랭크\n",
        "pr = nx.pagerank(G)\n",
        "nsize = np.array([v for v in pr.values()])\n",
        "nsize = 2000 * (nsize - min(nsize)) / (max(nsize) - min(nsize))"
      ],
      "execution_count": null,
      "outputs": []
    },
    {
      "cell_type": "code",
      "metadata": {
        "id": "QMBwgXbZKv9P",
        "colab": {
          "base_uri": "https://localhost:8080/",
          "height": 71
        },
        "outputId": "42362c4d-3bce-4241-bf13-54da1496700e"
      },
      "source": [
        "# 레이아웃\n",
        "pos = nx.planar_layout(G)"
      ],
      "execution_count": null,
      "outputs": [
        {
          "output_type": "stream",
          "text": [
            "/usr/local/lib/python3.6/dist-packages/networkx/drawing/layout.py:950: FutureWarning: arrays to stack must be passed as a \"sequence\" type such as list or tuple. Support for non-sequence iterables such as generators is deprecated as of NumPy 1.16 and will raise an error in the future.\n",
            "  pos = np.row_stack((pos[x] for x in node_list))\n"
          ],
          "name": "stderr"
        }
      ]
    },
    {
      "cell_type": "code",
      "metadata": {
        "id": "PHznQLa9ev7d",
        "colab": {
          "base_uri": "https://localhost:8080/",
          "height": 86
        },
        "outputId": "00466579-ec93-4eb3-e714-119664d606d0"
      },
      "source": [
        "'''\n",
        "# 한글 폰트 문제\n",
        "\n",
        "import matplotlib.font_manager as fm\n",
        "import matplotlib as mpl\n",
        "from matplotlib import rc\n",
        "\n",
        "font_name = fm.FontProperties(fname='/content/NanumBarunGothic.ttf').get_name()\n",
        "\n",
        "\n",
        "plt.rc('font', family=font_name)\n",
        "mpl.font_manager._rebuild()\n",
        "\n",
        "print(font_name)\n",
        "\n",
        "'''"
      ],
      "execution_count": null,
      "outputs": [
        {
          "output_type": "execute_result",
          "data": {
            "application/vnd.google.colaboratory.intrinsic+json": {
              "type": "string"
            },
            "text/plain": [
              "\"\\n# 한글 폰트 문제\\n\\nimport matplotlib.font_manager as fm\\nimport matplotlib as mpl\\nfrom matplotlib import rc\\n\\nfont_name = fm.FontProperties(fname='/content/NanumBarunGothic.ttf').get_name()\\n\\n\\nplt.rc('font', family=font_name)\\nmpl.font_manager._rebuild()\\n\\nprint(font_name)\\n\\n\""
            ]
          },
          "metadata": {
            "tags": []
          },
          "execution_count": 11
        }
      ]
    },
    {
      "cell_type": "code",
      "metadata": {
        "id": "0VlEEkYSiMEv",
        "colab": {
          "base_uri": "https://localhost:8080/",
          "height": 495
        },
        "outputId": "9bb21277-df9f-4387-d932-7064a3f36bf8"
      },
      "source": [
        "# 네트워크 그래프\n",
        "plt.figure(figsize=(16,12)); plt.axis('off')\n",
        "\n",
        "#nx.draw_networkx_labels(G,pos,G_label,font_family=font_name,font_size=16)\n",
        "'''\n",
        "nx.draw_networkx_labels(G, pos, font_family='NanumBarunGothic', font_size=10)\n",
        "nx.draw_networkx(G, font_family=font_name, font_size=16,\n",
        "                 pos =pos, node_color = list(pr.values()), node_size=nsize,\n",
        "                 alpha = 0.7, edge_color='.5', cmap=plt.cm.YlGn)\n",
        "'''\n",
        "\n",
        "\n",
        "#nx.draw_networkx_labels(G, pos, font_family='NanumBarunGothic', font_size=10)\n",
        "nx.draw_networkx(G, font_family='NanumBarunGothic', font_size=16,\n",
        "                 pos =pos, node_color = list(pr.values()), node_size=nsize,\n",
        "                 alpha = 0.7, edge_color='.5', cmap=plt.cm.YlGn)\n",
        "\n",
        "plt.savefig('last2.png', bbox_inches='tight')"
      ],
      "execution_count": null,
      "outputs": [
        {
          "output_type": "display_data",
          "data": {
            "image/png": "[encoded data removed]",
            "text/plain": [
              "<Figure size 1152x864 with 1 Axes>"
            ]
          },
          "metadata": {
            "tags": []
          }
        }
      ]
    },
    {
      "cell_type": "code",
      "metadata": {
        "id": "lN4An400mCZA"
      },
      "source": [
        ""
      ],
      "execution_count": null,
      "outputs": []
    }
  ]
}
